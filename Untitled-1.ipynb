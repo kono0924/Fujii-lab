{
 "cells": [
  {
   "cell_type": "code",
   "execution_count": 17,
   "metadata": {},
   "outputs": [
    {
     "name": "stdout",
     "output_type": "stream",
     "text": [
      "[-6609.444444444444, -5852.058823529412, -5579.4, -5438.939393939394, -5353.292682926829]\n"
     ]
    },
    {
     "data": {
      "image/png": "[encoded data removed]",
      "text/plain": [
       "<Figure size 432x288 with 1 Axes>"
      ]
     },
     "metadata": {
      "needs_background": "light"
     },
     "output_type": "display_data"
    }
   ],
   "source": [
    "import seaborn as sns\n",
    "import pandas as pd\n",
    "import numpy as np\n",
    "import matplotlib.pyplot as plt\n",
    "import math\n",
    "import os\n",
    "\n",
    "p_th = 0.103\n",
    "p = 0.0001\n",
    "d = [3,5,7,9,11]\n",
    "eta = 10000\n",
    "N_list = []\n",
    "\n",
    "plt.rcParams[\"xtick.direction\"] = \"in\"     \n",
    "plt.rcParams[\"ytick.direction\"] = \"in\" \n",
    "fig, ax = plt.subplots()\n",
    "\n",
    "for i in d:\n",
    "    N = eta * (p_th/p - 4*i) / (2*(4*i-3))\n",
    "    N_list.append(N)\n",
    "print(N_list)\n",
    "ax.plot(d, N_list, linewidth = 0 ,marker='x')\n",
    "ax.set_xticks(d)\n",
    "ax.set_xlabel(\"d_1\", fontsize=13)\n",
    "ax.set_ylabel(\"N_1\", fontsize=13)\n",
    "#ax.set_xlim(0,)\n",
    "ax.set_ylim(0,)\n",
    "ax.spines[\"top\"].set_linewidth(2)\n",
    "ax.spines[\"left\"].set_linewidth(2)\n",
    "ax.spines[\"bottom\"].set_linewidth(2)\n",
    "ax.spines[\"right\"].set_linewidth(2)\n",
    "ax.tick_params(direction=\"in\", width=2, length=4, labelsize=12)\n",
    "#ax.set_title(\"X,p=(0.0001,0.0009,0.0001),d=(3,9,2),d(rep)=5,eta=1000,trials=10000\", fontsize=14)\n",
    "plt.show()"
   ]
  },
  {
   "cell_type": "markdown",
   "metadata": {},
   "source": [
    "### 論理Zエラー確率　vs シンドロームエラー確率"
   ]
  },
  {
   "cell_type": "code",
   "execution_count": 23,
   "metadata": {},
   "outputs": [
    {
     "data": {
      "image/png": "[encoded data removed]",
      "text/plain": [
       "<Figure size 432x288 with 1 Axes>"
      ]
     },
     "metadata": {
      "needs_background": "light"
     },
     "output_type": "display_data"
    }
   ],
   "source": [
    "import seaborn as sns\n",
    "import pandas as pd\n",
    "import numpy as np\n",
    "import matplotlib.pyplot as plt\n",
    "import math\n",
    "import os\n",
    "\n",
    "p_th = 0.103\n",
    "p = 0.0001\n",
    "d = [3,5,7,9,11]\n",
    "epsilon_list = [6.4413836814392e-07, 5.449050131749679e-08, 3.1543426971153896e-08, 0, 0]\n",
    "eta = 10000\n",
    "pL_list = []\n",
    "pS_list = []\n",
    "\n",
    "plt.rcParams[\"xtick.direction\"] = \"in\"     \n",
    "plt.rcParams[\"ytick.direction\"] = \"in\" \n",
    "fig, ax = plt.subplots()\n",
    "\n",
    "for i in range(len(d)):\n",
    "    pL = epsilon_list[i] *  (eta+1) * ((p_th/p) - 4*d[i]) / 4*(4*d[i]-3)\n",
    "    pL_list.append(pL)\n",
    "    pS = 3.28 * p * d[i]\n",
    "    pS_list.append(pS)\n",
    "#print(N_list)\n",
    "ax.plot(d, pL_list, marker='x')\n",
    "ax.plot(d, pS_list, marker='o')\n",
    "ax.set_xticks(d)\n",
    "ax.set_xlabel(\"d_1\", fontsize=13)\n",
    "ax.set_ylabel(\"p\", fontsize=13)\n",
    "#ax.set_xlim(0,)\n",
    "ax.set_ylim(0,)\n",
    "ax.spines[\"top\"].set_linewidth(2)\n",
    "ax.spines[\"left\"].set_linewidth(2)\n",
    "ax.spines[\"bottom\"].set_linewidth(2)\n",
    "ax.spines[\"right\"].set_linewidth(2)\n",
    "ax.tick_params(direction=\"in\", width=2, length=4, labelsize=12)\n",
    "#ax.set_yscale('log')\n",
    "#ax.set_title(\"X,p=(0.0001,0.0009,0.0001),d=(3,9,2),d(rep)=5,eta=1000,trials=10000\", fontsize=14)\n",
    "plt.show()"
   ]
  },
  {
   "cell_type": "code",
   "execution_count": null,
   "metadata": {},
   "outputs": [],
   "source": []
  }
 ],
 "metadata": {
  "kernelspec": {
   "display_name": "Python 3.9.7 ('base')",
   "language": "python",
   "name": "python3"
  },
  "language_info": {
   "codemirror_mode": {
    "name": "ipython",
    "version": 3
   },
   "file_extension": ".py",
   "mimetype": "text/x-python",
   "name": "python",
   "nbconvert_exporter": "python",
   "pygments_lexer": "ipython3",
   "version": "3.9.7"
  },
  "orig_nbformat": 4,
  "vscode": {
   "interpreter": {
    "hash": "f4cda8140dc0debb129a7f818408f8fa48594adbf2ce06ac97143a2d56fa152b"
   }
  }
 },
 "nbformat": 4,
 "nbformat_minor": 2
}
